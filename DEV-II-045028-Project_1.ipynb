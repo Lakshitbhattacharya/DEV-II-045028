{
 "cells": [
  {
   "cell_type": "code",
   "execution_count": null,
   "id": "ee344591",
   "metadata": {},
   "outputs": [],
   "source": [
    "import numpy as np \n",
    "import pandas as pd \n",
    "import matplotlib.pyplot as plt\n",
    "from matplotlib import style"
   ]
  },
  {
   "cell_type": "code",
   "execution_count": null,
   "id": "232760ae",
   "metadata": {},
   "outputs": [],
   "source": [
    "df = pd.read_csv('Air line Dataset.csv')\n",
    "\n",
    "df.head()"
   ]
  },
  {
   "cell_type": "code",
   "execution_count": null,
   "id": "5dc10a28",
   "metadata": {},
   "outputs": [],
   "source": [
    "df.shape"
   ]
  },
  {
   "cell_type": "code",
   "execution_count": null,
   "id": "f0a1bb03",
   "metadata": {},
   "outputs": [],
   "source": [
    "df.info()"
   ]
  },
  {
   "cell_type": "code",
   "execution_count": null,
   "id": "cead6353",
   "metadata": {},
   "outputs": [],
   "source": [
    "df[\"Departure Date\"] = pd.to_datetime(df[\"Departure Date\"])\n",
    "df = df.sort_values(by = \"Departure Date\",ascending = True).reset_index(drop=True)\n",
    "\n",
    "df"
   ]
  },
  {
   "cell_type": "code",
   "execution_count": null,
   "id": "a265579e",
   "metadata": {},
   "outputs": [],
   "source": [
    "print(df.info(), \"\\n\")\n",
    "\n",
    "print(\"Nº duplicated:\",df.duplicated().sum())"
   ]
  },
  {
   "cell_type": "code",
   "execution_count": null,
   "id": "e3135a1c",
   "metadata": {},
   "outputs": [],
   "source": [
    "#we observe that the data for this analysis is not duplicated. We deduce this by using the \"duplicated\" variable."
   ]
  },
  {
   "cell_type": "markdown",
   "id": "a3d3ec7c",
   "metadata": {},
   "source": [
    "# Analysis and Visualization.\n",
    "\n",
    "#To develop this section, we consider the following questions:\n",
    "\n",
    "#Distribution of passengers with age.\n",
    "#Distribution of Flight statuses.\n",
    "#Which are the top 5 Continents and countries with the most visits?\n",
    "#Top 10 nationalities that travel from flights.\n",
    "#What is the flight status throughout the year based on months and quarters?\n",
    "#Passengers age over time by flight status.\n",
    "#Number of passengers and airports in different airports."
   ]
  },
  {
   "cell_type": "code",
   "execution_count": null,
   "id": "5770b5b1",
   "metadata": {},
   "outputs": [],
   "source": []
  },
  {
   "cell_type": "code",
   "execution_count": null,
   "id": "cf09db2e",
   "metadata": {},
   "outputs": [],
   "source": [
    "#Ages of the passengers.\n",
    "df[\"Age\"].describe()"
   ]
  },
  {
   "cell_type": "code",
   "execution_count": null,
   "id": "70d024eb",
   "metadata": {},
   "outputs": [],
   "source": [
    "bins = [0, 12, 30, 50, 100] \n",
    "\n",
    "labels = ['Children', 'Youth', 'Adults', 'Seniors'] \n",
    "\n",
    "df['Age Group'] = pd.cut(df['Age'], bins=bins, labels=labels) \n",
    "\n",
    "'''We define the ages in a series of intervals and record them in \"bins,\" adding a category for each corresponding age range,\n",
    "which is stored in \"labels.\" Next, we define a new column for our dataframe called \"Age Group,\" where we will group the ages\n",
    "from our \"Age\" column based on the defined age intervals (\"bins\") and assign them to the appropriate category (\"labels\") using\n",
    "\"pd.cut.\" '''"
   ]
  },
  {
   "cell_type": "code",
   "execution_count": null,
   "id": "5cbd01ad",
   "metadata": {},
   "outputs": [],
   "source": [
    "group_counts = df['Age Group'].value_counts()\n",
    "\n",
    "plt.figure(figsize=(8, 5))\n",
    "group_counts.plot(kind='bar', rot=0)\n",
    "plt.xlabel(\"Age Group\")\n",
    "plt.ylabel(\"Count\")\n",
    "plt.title(\"Distribution by Age Group\")\n",
    "plt.show()\n"
   ]
  },
  {
   "cell_type": "code",
   "execution_count": null,
   "id": "2d1039af",
   "metadata": {},
   "outputs": [],
   "source": [
    "#We can see that the \"Seniors\" group has a significant presence in this dataframe, indicating that the majority of people in this database are between 50 and 100 years old.\n"
   ]
  },
  {
   "cell_type": "code",
   "execution_count": null,
   "id": "b3ecb640",
   "metadata": {},
   "outputs": [],
   "source": [
    "#Flight statuses\n",
    "df['Flight Status'].value_counts()"
   ]
  },
  {
   "cell_type": "code",
   "execution_count": null,
   "id": "1e796db1",
   "metadata": {},
   "outputs": [],
   "source": [
    "labels = df['Flight Status'].unique()\n",
    "values = df['Flight Status'].value_counts()\n",
    "\n",
    "fig, ax = plt.subplots()\n",
    "ax.pie(values, labels=labels, autopct = '%1.1f%%')\n",
    "plt.show()"
   ]
  },
  {
   "cell_type": "code",
   "execution_count": null,
   "id": "02575c62",
   "metadata": {},
   "outputs": [],
   "source": [
    "# From the results obtained, we can see that the flight statuses: \"Cancelled, Delayed, On time,\" follow a similar distribution, with one flight status not significantly standing out compared to the others."
   ]
  },
  {
   "cell_type": "code",
   "execution_count": null,
   "id": "fa0609d1",
   "metadata": {},
   "outputs": [],
   "source": [
    "#Which are the top 5 countries with the most visits?\n",
    "country_visits = df[\"Country Name\"].value_counts().head(5)\n",
    "\n",
    "plt.figure(figsize=(10, 6))\n",
    "country_visits.plot(kind='bar')\n",
    "plt.title('The five most visited countries')\n",
    "plt.xlabel('Country')\n",
    "plt.ylabel('Nº of visits')\n",
    "plt.xticks(rotation=45) \n",
    "plt.show()"
   ]
  },
  {
   "cell_type": "code",
   "execution_count": null,
   "id": "1c484cde",
   "metadata": {},
   "outputs": [],
   "source": [
    "#Which continent is the most visited?\n",
    "continents_visits = df[\"Continents\"].value_counts()\n",
    "\n",
    "plt.figure(figsize=(10, 6))\n",
    "continents_visits.plot(kind='bar')\n",
    "plt.title('The most visited Continents')\n",
    "plt.xlabel('Continents')\n",
    "plt.ylabel('Nº of visits')\n",
    "plt.xticks(rotation=45)  \n",
    "plt.show()"
   ]
  },
  {
   "cell_type": "code",
   "execution_count": null,
   "id": "5d2ecedc",
   "metadata": {},
   "outputs": [],
   "source": [
    "#Top 10 nationalities.\n",
    "nationality = df[\"Nationality\"].value_counts().head(10)\n",
    "\n",
    "plt.figure(figsize=(10,6))\n",
    "nationality.plot(kind=\"bar\")\n",
    "plt.title(\"Top 10 nationalities\")\n",
    "plt.xlabel(\"Nationality\")\n",
    "plt.ylabel(\"Count\")\n",
    "plt.xticks(rotation=45) \n",
    "plt.show()\n"
   ]
  },
  {
   "cell_type": "code",
   "execution_count": null,
   "id": "70f84c7a",
   "metadata": {},
   "outputs": [],
   "source": [
    "# What is the flight status throughout the year?\n",
    "df[\"month\"] = df[\"Departure Date\"].dt.month"
   ]
  },
  {
   "cell_type": "code",
   "execution_count": null,
   "id": "4d4cf360",
   "metadata": {},
   "outputs": [],
   "source": [
    "df.head()"
   ]
  },
  {
   "cell_type": "code",
   "execution_count": null,
   "id": "2e1c9e6e",
   "metadata": {},
   "outputs": [],
   "source": [
    "# Create a list\n",
    "status_unique = df['Flight Status'].unique()\n",
    "\n",
    "# Subplots\n",
    "num_rows = len(status_unique)\n",
    "fig, axs = plt.subplots(num_rows, 1, figsize=(9, 5 * num_rows), sharex=False,gridspec_kw={'hspace': 0.5})\n",
    "\n",
    "# Labels\n",
    "labels = ['January', 'February', 'March', 'April', 'May', 'June', 'July', 'August', 'September', 'October', 'November', 'December']\n",
    "\n",
    "# To iterate through the status and create separate graphs\n",
    "for i, status in enumerate(status_unique):\n",
    "    f_status = df[df['Flight Status'] == status]\n",
    "    f_month = f_status.groupby(f_status['month'])['Flight Status'].count()\n",
    "    bars = axs[i].bar(f_month.index, f_month.values)\n",
    "    axs[i].set_title(f'Flight {status} per Month')\n",
    "    axs[i].set_xlabel('Month')\n",
    "    axs[i].set_ylabel('Nº of Flight')\n",
    "    \n",
    "    # To set up X-axis labels to display the months.\n",
    "    axs[i].set_xticks(range(1, 13))  # Set label positions\n",
    "    axs[i].set_xticklabels(labels, rotation=45, ha='right')  # Set labels and rotation\n",
    "    \n",
    "    # Add value labels to the bars.\n",
    "    for bar in bars:\n",
    "        height = bar.get_height()\n",
    "        axs[i].annotate(f'{height}', xy=(bar.get_x() + bar.get_width() / 2, height),\n",
    "                        xytext=(0, 3), textcoords='offset points', ha='center', va='bottom')\n",
    "\n",
    "plt.show()"
   ]
  },
  {
   "cell_type": "code",
   "execution_count": null,
   "id": "1d93bde7",
   "metadata": {},
   "outputs": [],
   "source": [
    "df[\"quarter\"] = df[\"Departure Date\"].dt.quarter"
   ]
  },
  {
   "cell_type": "code",
   "execution_count": null,
   "id": "6511be4c",
   "metadata": {},
   "outputs": [],
   "source": [
    "df.head()"
   ]
  },
  {
   "cell_type": "code",
   "execution_count": null,
   "id": "2caf3330",
   "metadata": {},
   "outputs": [],
   "source": [
    "# Create a list\n",
    "status_unique = df['Flight Status'].unique()\n",
    "\n",
    "# Subplots\n",
    "num_rows = len(status_unique)\n",
    "fig, axs = plt.subplots(num_rows, 1, figsize=(9, 5 * num_rows), sharex=False, gridspec_kw={'hspace': 0.5})\n",
    "\n",
    "# Labels\n",
    "labels = ['Q1', 'Q2', 'Q3', 'Q4']\n",
    "\n",
    "# To iterate through the status and create separate graphs\n",
    "for i, status in enumerate(status_unique):\n",
    "    f_status = df[df['Flight Status'] == status]\n",
    "    f_quarter = f_status.groupby(f_status['quarter'])['Flight Status'].count()\n",
    "    \n",
    "    bars = axs[i].bar(f_quarter.index, f_quarter.values)\n",
    "    axs[i].set_title(f'Flight {status} per Quarter')\n",
    "    axs[i].set_xlabel('Quarter')\n",
    "    axs[i].set_ylabel('Nº of Flight')\n",
    "    \n",
    "    # To set up X-axis labels to display the months.\n",
    "    axs[i].set_xticks(range(1, 5))  # Set label positions\n",
    "    axs[i].set_xticklabels(labels, rotation=45, ha='right')  # Set labels and rotation\n",
    "    \n",
    "    # Add value labels to the bars.\n",
    "    for bar in bars:\n",
    "        height = bar.get_height()\n",
    "        axs[i].annotate(f'{height}', xy=(bar.get_x() + bar.get_width() / 2, height),\n",
    "                        xytext=(0, 3), textcoords='offset points', ha='center', va='bottom')\n",
    "\n",
    "plt.show()"
   ]
  },
  {
   "cell_type": "code",
   "execution_count": null,
   "id": "1d997688",
   "metadata": {},
   "outputs": [],
   "source": [
    "gender = df['Gender'].value_counts()\n",
    "\n",
    "plt.figure(figsize=(8, 6))\n",
    "gender.plot(kind='bar', color=['turquoise', 'violet'])\n",
    "\n",
    "plt.title('Travelers by Genders')\n",
    "plt.xlabel('Gender')\n",
    "plt.ylabel('Passenger Count')\n",
    "\n",
    "plt.show()"
   ]
  },
  {
   "cell_type": "code",
   "execution_count": null,
   "id": "2cc12209",
   "metadata": {},
   "outputs": [],
   "source": [
    "#observations\n",
    "#The frequency of the variables of flight status is almost equal.In addition, the number of men and women in flight status is almost the same, so it can be said that gender is not effective in flight status.\n",
    "#As a country, we observed that the US had the highest number of on-time, delayed or canceled flights.As a arrival airport that the 0 had the highest number of on-time, delayed or canceled flights.But zero here means the unknown. And as a continents,that the North America had the highest number of on-time, delayed or canceled flights. Of course, this is due to the fact that the US is the country with the highest number of on-time, delayed and canceled flights.\n",
    "#In terms of nationality, Chinese passengers are the most numerous and even account for almost 20 percent of all observations.\n",
    "#In terms of departure month, on-time, delayed and canceled flights were most common in months 10, 11 and 12. This shows that most flights took place in these months and that the month has no effect on the flight status. However, it is observed that the departure days are different in three flight cases and it is determined that this situation, that is, the day of departure, has an effect on the flight status."
   ]
  },
  {
   "cell_type": "code",
   "execution_count": null,
   "id": "501d01c6",
   "metadata": {},
   "outputs": [],
   "source": [
    "import seaborn as sns"
   ]
  },
  {
   "cell_type": "code",
   "execution_count": null,
   "id": "3a3a90dd",
   "metadata": {},
   "outputs": [],
   "source": [
    "df['Departure Date'] = pd.to_datetime(df['Departure Date'])\n",
    "plt.figure(figsize=(12, 6))\n",
    "sns.lineplot(x='Departure Date', y='Age', hue='Flight Status', data=df)\n",
    "plt.title('Passenger Age over Time by Flight Status')\n",
    "plt.xlabel('Departure Date')\n",
    "plt.ylabel('Age')\n",
    "plt.show()"
   ]
  },
  {
   "cell_type": "code",
   "execution_count": null,
   "id": "b21a0d55",
   "metadata": {},
   "outputs": [],
   "source": [
    "'''Interpretation:\n",
    "\n",
    "The plot visualizes how the age of passengers varies over time based on their flight status.\n",
    "Each line on the plot represents a different flight status (e.g., 'On Time' or 'Delayed').\n",
    "The x-axis shows the departure dates, allowing you to observe any patterns or trends over time.\n",
    "The y-axis represents the age of passengers, helping you understand the distribution of ages for each flight status.'''"
   ]
  },
  {
   "cell_type": "code",
   "execution_count": null,
   "id": "795fd33c",
   "metadata": {},
   "outputs": [],
   "source": [
    "import plotly.express as px"
   ]
  },
  {
   "cell_type": "code",
   "execution_count": null,
   "id": "0324f17f",
   "metadata": {},
   "outputs": [],
   "source": [
    "# Convert 'Departure Date' to datetime format\n",
    "df['Departure Date'] = pd.to_datetime(df['Departure Date'])\n",
    "\n",
    "# Create an interactive line plot\n",
    "fig = px.line(df, x='Departure Date', y='Age', color='Flight Status', \n",
    "              labels={'Age': 'Passenger Age', 'Departure Date': 'Departure Date'},\n",
    "              title='Passenger Age over Time by Flight Status')\n",
    "\n",
    "# Show the interactive plot\n",
    "fig.show()"
   ]
  },
  {
   "cell_type": "code",
   "execution_count": null,
   "id": "e539fa87",
   "metadata": {},
   "outputs": [],
   "source": []
  },
  {
   "cell_type": "code",
   "execution_count": null,
   "id": "4e42db08",
   "metadata": {},
   "outputs": [],
   "source": [
    "\n",
    "# Create an interactive box plot\n",
    "fig = px.box(df, x='Flight Status', y='Age', color='Flight Status',\n",
    "             labels={'Age': 'Passenger Age', 'Flight Status': 'Flight Status'},\n",
    "             title='Box Plot of Passenger Age by Flight Status')\n",
    "\n",
    "# Show the interactive plot\n",
    "fig.show()"
   ]
  },
  {
   "cell_type": "code",
   "execution_count": null,
   "id": "9ba16c18",
   "metadata": {},
   "outputs": [],
   "source": []
  },
  {
   "cell_type": "code",
   "execution_count": null,
   "id": "75ea05a4",
   "metadata": {},
   "outputs": [],
   "source": [
    "# Count the number of airports in each continent\n",
    "airports_count = df.groupby('Continents')['Airport Name'].nunique().reset_index(name='Number of Airports')\n",
    "\n",
    "# Count the number of passengers in each continent\n",
    "passengers_count = df.groupby('Continents').size().reset_index(name='Number of Passengers')\n",
    "\n",
    "# Merge the two dataframes on the 'Continents' column\n",
    "merged_df = pd.merge(airports_count, passengers_count, on='Continents')\n",
    "\n",
    "# Create a bubble map\n",
    "fig = px.scatter(merged_df, x='Number of Airports', y='Number of Passengers', size='Number of Passengers',\n",
    "                 color='Continents', hover_name='Continents',\n",
    "                 title='Bubble Map for Number of Airports and Passengers in Each Continent',\n",
    "                 size_max=50)\n",
    "\n",
    "# Show the plot\n",
    "fig.show()"
   ]
  },
  {
   "cell_type": "code",
   "execution_count": null,
   "id": "c0741b4b",
   "metadata": {},
   "outputs": [],
   "source": [
    "import plotly.express as px\n",
    "\n",
    "# Assuming df is your DataFrame\n",
    "# Create a new column for the size based on the frequency of each 'Flight Status'\n",
    "df['Flight_Status_Count'] = df.groupby('Flight Status')['Passenger ID'].transform('count')\n",
    "\n",
    "# Create the bubble chart\n",
    "bubble_chart = px.scatter(df, x='Age', y='Gender', size='Flight_Status_Count',\n",
    "                          animation_frame='Departure Date', animation_group='Passenger ID',\n",
    "                          title='Age vs Gender with Flight Status Bubble Size',\n",
    "                          labels={'Age': 'Age', 'Gender': 'Gender'},\n",
    "                          size_max=30, range_x=[df['Age'].min(), df['Age'].max()],\n",
    "                          range_y=[df['Gender'].min(), df['Gender'].max()])\n",
    "\n",
    "bubble_chart.update_layout(transition_duration=500)\n",
    "\n",
    "# Show the plot\n",
    "bubble_chart.show()"
   ]
  },
  {
   "cell_type": "code",
   "execution_count": null,
   "id": "01ce7838",
   "metadata": {},
   "outputs": [],
   "source": [
    "# Report on'''Executive Summary\n",
    "'''This comprehensive analysis of the airline passengers and flights dataset has provided valuable insights into various aspects of passenger demographics, flight statuses, top destinations, and temporal trends. The findings presented in this report aim to enhance the understanding of the dataset and contribute to strategic decision-making for improving passenger experience and optimizing flight operations.\n",
    "1. Distribution of Passengers with Age:\n",
    "We categorized passengers into four groups: seniors, adults, youth, and children. The analysis revealed that seniors constitute the largest passenger group. This insight can guide efforts to tailor services and amenities to the needs of different age segments.\n",
    "2. Distribution of Flight Statuses:\n",
    "A pie chart illustrated the distribution of flight statuses, showing that the statuses \"Cancelled,\" \"Delayed,\" and \"On Time\" exhibit similar proportions. No significant outliers were observed, emphasizing the importance of consistently managing all flight statuses.\n",
    "3. Top 5 Continents and Countries with the Most Visits:\n",
    "The analysis identified North America as the most visited continent, with the USA being the top country. This information is crucial for resource allocation and marketing strategies, focusing on regions with high passenger traffic.\n",
    "4. Top 10 Nationalities Traveling from Flights:\n",
    "The dataset highlighted China as the top nationality among passengers traveling with the airline. This insight informs targeted marketing efforts and facilitates a better understanding of customer demographics.\n",
    "5. Flight Status Throughout the Year (Months and Quarters):\n",
    "Monthly and quarterly analyses of flight statuses revealed patterns in cancellations, delays, and on-time performance. This information aids in proactive planning and resource allocation during peak seasons or specific quarters with higher disruptions.\n",
    "6. Passengers' Age Over Time by Flight Status:\n",
    "The plot depicting passengers' age over time for different flight statuses provides a nuanced view of how age groups are affected by flight disruptions. This can guide personalized services or communication strategies.\n",
    "7. Number of Passengers and Airports in Different Continents:\n",
    "The examination of the number of passengers and airports in each continent informs infrastructure development decisions. Identifying continents with high passenger density can guide the establishment of new airports.\n",
    "Dynamic Bubble Chart for Ages and Genders by Flight Status:\n",
    "The dynamic bubble chart offers a visually engaging representation of the ages and genders of passengers based on flight status. This interactive visualization facilitates a deeper exploration of age and gender dynamics across different flight statuses.\n",
    "Conclusion:\n",
    "The insights gained from this analysis empower the airline to make informed decisions regarding customer experience, operational efficiency, and strategic planning. By understanding passenger demographics, destinations, and temporal patterns, the airline can tailor its services to enhance customer satisfaction, optimize resources, and improve overall operational performance.\n",
    "This report serves as a foundation for ongoing analysis and strategic initiatives, providing a holistic view of the airline's performance and customer demographics.\n",
    "The y-axis represents the age of passengers, helping you understand the distribution of ages for each flight status.\n",
    "Now we have to find out the number of passengers and airports in each continent. So this helped us to know which are the continents which need more airports with respect to the passengers. This would help us in getting a better picture for the future reference.\n",
    "After that we made a dynamic bubble chart to depict the ages and gender of the passengers based on their flight status.It would help us in getting the age wise data of passengers with their genders telling us about the flight statuses they faced each day.\n",
    "\n",
    "Managerial Implications and Recommendations:\n",
    "Age-Based Service Customization:\n",
    "Implication: Given that seniors constitute the largest passenger group, there is an opportunity to enhance services catering specifically to their needs.\n",
    "Recommendation: Implement age-friendly services such as priority boarding, assistance during transit, and amenities suitable for senior passengers.\n",
    "Flight Status Management:\n",
    "Implication: The balanced distribution of flight statuses suggests a consistent operational performance. However, understanding the reasons behind cancellations or delays could lead to proactive measures.\n",
    "Recommendation: Conduct a detailed analysis of factors contributing to flight disruptions, focusing on mitigating common causes and improving communication with passengers during delays or cancellations.\n",
    "\n",
    "Strategic Marketing Focus:\n",
    "Implication: The USA and China emerge as top destinations and nationalities, respectively. Strategic marketing efforts can leverage this information for customer acquisition and retention.\n",
    "Recommendation: Develop targeted marketing campaigns for the identified key markets, emphasizing personalized promotions, loyalty programs, and route optimizations.\n",
    "Seasonal and Quarterly Planning:\n",
    "Implication: Identifying patterns in flight statuses across months and quarters provides insights for proactive planning.\n",
    "Recommendation: Allocate resources strategically during peak seasons, enhance staff training for efficient handling of disruptions, and implement contingency plans for high-impact quarters.\n",
    "Age Group-Specific Strategies:\n",
    "Implication: The age-based analysis over time indicates varying impacts on different age groups during flight disruptions.\n",
    "Recommendation: Tailor communication strategies and amenities based on age groups to enhance the overall passenger experience and address specific needs during disruptions.\n",
    "Continental Expansion:\n",
    "Implication: North America emerges as the most visited continent. This information is valuable for future expansion plans.\n",
    "Recommendation: Explore opportunities for new routes, partnerships, or increased frequency of flights to and from North America. Consider expanding operations to other continents with high passenger density.\n",
    "Infrastructure Development:\n",
    "Implication: Understanding the number of passengers and airports in each continent is crucial for infrastructure planning.\n",
    "Recommendation: Invest in new airport facilities in continents with high passenger density. Collaborate with aviation authorities to ensure seamless passenger experiences at existing and new airports.\n",
    "Data-Driven Decision-Making:\n",
    "Implication: The dynamic bubble chart provides a real-time view of age and gender dynamics by flight status.\n",
    "Recommendation: Continuously monitor the dynamic bubble chart to identify emerging trends, enabling swift decision-making based on evolving passenger demographics and preferences.\n",
    "\n",
    "Customer Engagement Strategies:\n",
    "Implication: The comprehensive analysis offers insights into customer behavior and preferences.\n",
    "Recommendation: Implement targeted customer engagement strategies, including surveys, feedback mechanisms, and loyalty programs, to foster a customer-centric approach and enhance brand loyalty.\n",
    "Operational Efficiency:\n",
    "Implication: Operational efficiency is crucial for delivering a positive passenger experience.\n",
    "Recommendation: Invest in technology and training programs to streamline operations, minimize delays, and improve overall efficiency. Regularly review and update operational protocols based on industry best practices.\n",
    "'''"
   ]
  }
 ],
 "metadata": {
  "kernelspec": {
   "display_name": "Python 3 (ipykernel)",
   "language": "python",
   "name": "python3"
  },
  "language_info": {
   "codemirror_mode": {
    "name": "ipython",
    "version": 3
   },
   "file_extension": ".py",
   "mimetype": "text/x-python",
   "name": "python",
   "nbconvert_exporter": "python",
   "pygments_lexer": "ipython3",
   "version": "3.11.3"
  }
 },
 "nbformat": 4,
 "nbformat_minor": 5
}
